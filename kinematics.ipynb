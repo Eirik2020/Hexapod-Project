{
 "cells": [
  {
   "cell_type": "markdown",
   "metadata": {},
   "source": [
    "# Kinematics"
   ]
  },
  {
   "cell_type": "code",
   "execution_count": 102,
   "metadata": {},
   "outputs": [],
   "source": [
    "# import\n",
    "import numpy as np\n",
    "import math"
   ]
  },
  {
   "cell_type": "code",
   "execution_count": 103,
   "metadata": {},
   "outputs": [],
   "source": [
    "def leg_FK(origin_bot, angles, links):\n",
    "    \"\"\"\n",
    "    # Hexapod Leg Forward-Kinematics function\n",
    "    # Author: Eirik Strandman\n",
    "    # Version: V1.0\n",
    "\n",
    "    # Description:\n",
    "    A function that takes in robot origin, joint angles and leg configuration and \n",
    "    calculates the position of the joints for a two-member hexapod leg.\n",
    "\n",
    "\n",
    "    # Inputs\n",
    "    - origin_bot: (x,y,z)[mm] - The origin of the robot coordinate system.\n",
    "    - angles: [J0, J1, J2, J3][mm] - The joint angles.\n",
    "    - links: [L0, L1, L2, L3][mm] - The link lengths of the robot leg.  \n",
    "\n",
    "    # Output\n",
    "    - [[J1_pos, J2_pos, J3_pos, EF_pos](x,y,z)[mm] - Numpy array containing estimated joint positions.\n",
    "    \"\"\"\n",
    "\n",
    "\n",
    "    # Find x-values\n",
    "    x2 = links[0] + links[1]\n",
    "    x3 = x2 + links[2]*np.cos(angles[2])\n",
    "    x4 = x3 + links[3]*np.cos(angles[2] + angles[3])\n",
    "\n",
    "    # Find z-values\n",
    "    z2 = origin_bot[2] + links[2]*np.sin(angles[2])\n",
    "    z3 = z2 + links[3]*np.sin(angles[2] + angles[3])\n",
    "\n",
    "    # Find joint positions\n",
    "    J1_pos = np.array([ links[0]*np.cos(angles[0]),  links[0]*np.sin(angles[0]),  origin_bot[2] ])\n",
    "    J2_pos = np.array([ x2*np.sin(angles[0] + angles[1]), x2*np.cos(angles[0] + angles[1]), origin_bot[2] ])\n",
    "    J3_pos = np.array([ x3*np.sin(angles[0] + angles[1]), x3*np.cos(angles[0] + angles[1]), z2 ])\n",
    "    EF_pos = np.array([ x4*np.sin(angles[0] + angles[1]), x4*np.cos(angles[0] + angles[1]), z3 ])\n",
    "\n",
    "    # Return leg position as 2D array.\n",
    "    leg_pos = np.array([J1_pos, J2_pos, J3_pos, EF_pos])\n",
    "    return leg_pos"
   ]
  },
  {
   "cell_type": "code",
   "execution_count": 104,
   "metadata": {},
   "outputs": [],
   "source": [
    "def leg_IK(origin_bot, point, links, leg_angle):\n",
    "    \"\"\"\n",
    "    # Hexapod Leg Inverse-Kinematics function\n",
    "    # Author: Eirik Strandman\n",
    "    # Version: V1.0\n",
    "\n",
    "    # Description:\n",
    "    A function that takes in the robot origin, leg configuration and desired \n",
    "    end-effector location and estimates joint angles for a 2 member hexapod length.\n",
    "\n",
    "\n",
    "    # Inputs\n",
    "    - origin_bot: (x,y,z)[mm] - The origin of the robot coordinate system.\n",
    "    - point: (x,y,z)[mm] - Desired End-Effector (EF) location.\n",
    "    - links: [L0, L1, L2, L3][mm] - The link lengths of the robot leg.\n",
    "    - leg_angle: [rad] - The static default angle of the leg relative to the robot body.    \n",
    "\n",
    "    # Output\n",
    "    - [J0_ang, J1_ang, J2_ang, J3_ang][rad] - Numpy array containing estimated joint angles.\n",
    "    \"\"\"\n",
    "\n",
    "\n",
    "    # Calculate leg origin relative to robot origin leg angle.\n",
    "    origin_leg = np.array([\n",
    "         (links[0]*np.cos(leg_angle) + origin_bot[0]), # x\n",
    "         (links[0]*np.sin(leg_angle) + origin_bot[1]), # y\n",
    "         (origin_bot[2]) ])                                # z\n",
    "\n",
    "    # Translate to local leg coordinate system\n",
    "    point_leg = point - origin_leg \n",
    "    print(point_leg)\n",
    " \n",
    "    # Find joint angle for J1\n",
    "    J1_ang = math.atan2(point_leg[0], point_leg[1]) # atan(x,y), note: x and y are reversed so x-axis points forward.\n",
    "\n",
    "    # Find 2D resultant vector H for P_x and P_y with Link 1 subtracted.\n",
    "    H = np.sqrt( (point_leg[0]**2) + (point_leg[1]**2) ) - links[1]\n",
    "\n",
    "    # Find resultant vector L from H and Z. \n",
    "    L = np.sqrt( (H**2) + (point_leg[2]**2) )\n",
    "\n",
    "    # Find joint angle J3\n",
    "    J3_ang =  math.acos( ( (links[2]**2) + (links[3]**2) - (L**2) ) / (2 * links[2] * links[3]))\n",
    "    #print(J3_ang)\n",
    "    \n",
    "    # Find joint angle J2\n",
    "    B = math.acos( ( L**2 + (links[2]**2) - (links[3]**2) ) / ( 2 * L * links[2]))\n",
    "    #print(B)\n",
    "    A = math.atan2( point_leg[2], H )\n",
    "    print(\"A\")\n",
    "    print(np.rad2deg(A))\n",
    "    print(\"B\")\n",
    "    print(np.rad2deg(B))\n",
    "    J2_ang = B + A\n",
    "\n",
    "    # Apply offsets\n",
    "    J0_ang = leg_angle\n",
    "    J1_ang = J1_ang\n",
    "    J2_ang = J2_ang \n",
    "    J3_ang = J3_ang - np.pi\n",
    "\n",
    "    # Store as numpy array\n",
    "    angles = np.array([J0_ang, J1_ang, J2_ang, J3_ang])\n",
    "    return angles"
   ]
  },
  {
   "cell_type": "code",
   "execution_count": 105,
   "metadata": {},
   "outputs": [],
   "source": [
    "# Configuration\n",
    "links = np.array([  72.75,  54.0, 71.0, 73.5 ]) # Link lengths [mm])\n",
    "#offset = np.array([0, 45,  45,  135 ])\n",
    "#offset = np.deg2rad(offset)\n",
    "offset = np.array([ 0,         0,  0,  0])\n",
    "start = np.array([0, 0, 0])\n",
    "height = 10\n",
    "V_D = np.array([10, 0, 0])\n",
    "n = 100\n",
    "origin_bot = np.array([0, 0, 60])\n",
    "num_legs = 6\n",
    "num_servos = 18\n",
    "cycle_time = 10\n",
    "num_step = 5\n",
    "leg_ang = np.pi/2"
   ]
  },
  {
   "cell_type": "code",
   "execution_count": 106,
   "metadata": {},
   "outputs": [
    {
     "name": "stdout",
     "output_type": "stream",
     "text": [
      "Def pos\n",
      "[195   0   0]\n",
      "[195.   -72.75 -60.  ]\n"
     ]
    },
    {
     "ename": "ValueError",
     "evalue": "math domain error",
     "output_type": "error",
     "traceback": [
      "\u001b[1;31m---------------------------------------------------------------------------\u001b[0m",
      "\u001b[1;31mValueError\u001b[0m                                Traceback (most recent call last)",
      "Cell \u001b[1;32mIn[106], line 7\u001b[0m\n\u001b[0;32m      4\u001b[0m \u001b[38;5;28mprint\u001b[39m(def_EF_pos)\n\u001b[0;32m      6\u001b[0m \u001b[38;5;66;03m# Inverse kinematics\u001b[39;00m\n\u001b[1;32m----> 7\u001b[0m angles \u001b[38;5;241m=\u001b[39m \u001b[43mleg_IK\u001b[49m\u001b[43m(\u001b[49m\u001b[43morigin_bot\u001b[49m\u001b[43m,\u001b[49m\u001b[43m \u001b[49m\u001b[43mdef_EF_pos\u001b[49m\u001b[43m,\u001b[49m\u001b[43m \u001b[49m\u001b[43mlinks\u001b[49m\u001b[43m,\u001b[49m\u001b[43m \u001b[49m\u001b[43mleg_ang\u001b[49m\u001b[43m)\u001b[49m\n\u001b[0;32m      8\u001b[0m \u001b[38;5;28mprint\u001b[39m(\u001b[38;5;124m\"\u001b[39m\u001b[38;5;124mIK\u001b[39m\u001b[38;5;124m\"\u001b[39m)\n\u001b[0;32m      9\u001b[0m \u001b[38;5;28mprint\u001b[39m(np\u001b[38;5;241m.\u001b[39mrad2deg(angles))\n",
      "Cell \u001b[1;32mIn[104], line 43\u001b[0m, in \u001b[0;36mleg_IK\u001b[1;34m(origin_bot, point, links, leg_angle)\u001b[0m\n\u001b[0;32m     40\u001b[0m L \u001b[38;5;241m=\u001b[39m np\u001b[38;5;241m.\u001b[39msqrt( (H\u001b[38;5;241m*\u001b[39m\u001b[38;5;241m*\u001b[39m\u001b[38;5;241m2\u001b[39m) \u001b[38;5;241m+\u001b[39m (point_leg[\u001b[38;5;241m2\u001b[39m]\u001b[38;5;241m*\u001b[39m\u001b[38;5;241m*\u001b[39m\u001b[38;5;241m2\u001b[39m) )\n\u001b[0;32m     42\u001b[0m \u001b[38;5;66;03m# Find joint angle J3\u001b[39;00m\n\u001b[1;32m---> 43\u001b[0m J3_ang \u001b[38;5;241m=\u001b[39m  \u001b[43mmath\u001b[49m\u001b[38;5;241;43m.\u001b[39;49m\u001b[43macos\u001b[49m\u001b[43m(\u001b[49m\u001b[43m \u001b[49m\u001b[43m(\u001b[49m\u001b[43m \u001b[49m\u001b[43m(\u001b[49m\u001b[43mlinks\u001b[49m\u001b[43m[\u001b[49m\u001b[38;5;241;43m2\u001b[39;49m\u001b[43m]\u001b[49m\u001b[38;5;241;43m*\u001b[39;49m\u001b[38;5;241;43m*\u001b[39;49m\u001b[38;5;241;43m2\u001b[39;49m\u001b[43m)\u001b[49m\u001b[43m \u001b[49m\u001b[38;5;241;43m+\u001b[39;49m\u001b[43m \u001b[49m\u001b[43m(\u001b[49m\u001b[43mlinks\u001b[49m\u001b[43m[\u001b[49m\u001b[38;5;241;43m3\u001b[39;49m\u001b[43m]\u001b[49m\u001b[38;5;241;43m*\u001b[39;49m\u001b[38;5;241;43m*\u001b[39;49m\u001b[38;5;241;43m2\u001b[39;49m\u001b[43m)\u001b[49m\u001b[43m \u001b[49m\u001b[38;5;241;43m-\u001b[39;49m\u001b[43m \u001b[49m\u001b[43m(\u001b[49m\u001b[43mL\u001b[49m\u001b[38;5;241;43m*\u001b[39;49m\u001b[38;5;241;43m*\u001b[39;49m\u001b[38;5;241;43m2\u001b[39;49m\u001b[43m)\u001b[49m\u001b[43m \u001b[49m\u001b[43m)\u001b[49m\u001b[43m \u001b[49m\u001b[38;5;241;43m/\u001b[39;49m\u001b[43m \u001b[49m\u001b[43m(\u001b[49m\u001b[38;5;241;43m2\u001b[39;49m\u001b[43m \u001b[49m\u001b[38;5;241;43m*\u001b[39;49m\u001b[43m \u001b[49m\u001b[43mlinks\u001b[49m\u001b[43m[\u001b[49m\u001b[38;5;241;43m2\u001b[39;49m\u001b[43m]\u001b[49m\u001b[43m \u001b[49m\u001b[38;5;241;43m*\u001b[39;49m\u001b[43m \u001b[49m\u001b[43mlinks\u001b[49m\u001b[43m[\u001b[49m\u001b[38;5;241;43m3\u001b[39;49m\u001b[43m]\u001b[49m\u001b[43m)\u001b[49m\u001b[43m)\u001b[49m\n\u001b[0;32m     44\u001b[0m \u001b[38;5;66;03m#print(J3_ang)\u001b[39;00m\n\u001b[0;32m     45\u001b[0m \n\u001b[0;32m     46\u001b[0m \u001b[38;5;66;03m# Find joint angle J2\u001b[39;00m\n\u001b[0;32m     47\u001b[0m B \u001b[38;5;241m=\u001b[39m math\u001b[38;5;241m.\u001b[39macos( ( L\u001b[38;5;241m*\u001b[39m\u001b[38;5;241m*\u001b[39m\u001b[38;5;241m2\u001b[39m \u001b[38;5;241m+\u001b[39m (links[\u001b[38;5;241m2\u001b[39m]\u001b[38;5;241m*\u001b[39m\u001b[38;5;241m*\u001b[39m\u001b[38;5;241m2\u001b[39m) \u001b[38;5;241m-\u001b[39m (links[\u001b[38;5;241m3\u001b[39m]\u001b[38;5;241m*\u001b[39m\u001b[38;5;241m*\u001b[39m\u001b[38;5;241m2\u001b[39m) ) \u001b[38;5;241m/\u001b[39m ( \u001b[38;5;241m2\u001b[39m \u001b[38;5;241m*\u001b[39m L \u001b[38;5;241m*\u001b[39m links[\u001b[38;5;241m2\u001b[39m]))\n",
      "\u001b[1;31mValueError\u001b[0m: math domain error"
     ]
    }
   ],
   "source": [
    "# Default leg position\n",
    "def_EF_pos = np.array([195, 0, 0])\n",
    "print(\"Def pos\")\n",
    "print(def_EF_pos)\n",
    "\n",
    "# Inverse kinematics\n",
    "angles = leg_IK(origin_bot, def_EF_pos, links, 0)\n",
    "print(\"IK\")\n",
    "print(np.rad2deg(angles))\n",
    "\n",
    "# Forward kinematics\n",
    "pos = leg_FK(origin_bot, angles, links)\n",
    "print(\"FK_pos\")\n",
    "print(np.round(pos, 2))"
   ]
  }
 ],
 "metadata": {
  "kernelspec": {
   "display_name": "Python 3",
   "language": "python",
   "name": "python3"
  },
  "language_info": {
   "codemirror_mode": {
    "name": "ipython",
    "version": 3
   },
   "file_extension": ".py",
   "mimetype": "text/x-python",
   "name": "python",
   "nbconvert_exporter": "python",
   "pygments_lexer": "ipython3",
   "version": "3.11.2"
  }
 },
 "nbformat": 4,
 "nbformat_minor": 2
}
