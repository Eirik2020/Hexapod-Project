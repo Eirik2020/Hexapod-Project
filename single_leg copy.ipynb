{
 "cells": [
  {
   "cell_type": "markdown",
   "metadata": {},
   "source": [
    "# Single Leg Hexapod test program"
   ]
  },
  {
   "cell_type": "code",
   "execution_count": 2,
   "metadata": {},
   "outputs": [],
   "source": [
    "import serial\n",
    "import numpy as np\n",
    "import PyMaestro as pm\n",
    "import time\n",
    "import math"
   ]
  },
  {
   "cell_type": "markdown",
   "metadata": {},
   "source": [
    "## Forward Kinematics"
   ]
  },
  {
   "cell_type": "code",
   "execution_count": 3,
   "metadata": {},
   "outputs": [],
   "source": [
    "def leg_IK(origin_bot, point, links, leg_angle):\n",
    "    \"\"\"\n",
    "    # Hexapod Leg Inverse-Kinematics function\n",
    "    # Author: Eirik Strandman\n",
    "    # Version: V1.0\n",
    "\n",
    "    # Description:\n",
    "    A function that takes in the robot origin, leg configuration and desired \n",
    "    end-effector location and estimates joint angles for a 2 member hexapod length.\n",
    "\n",
    "\n",
    "    # Inputs\n",
    "    - origin_bot: (x,y,z)[mm] - The origin of the robot coordinate system.\n",
    "    - point: (x,y,z)[mm] - Desired End-Effector (EF) location.\n",
    "    - links: [L0, L1, L2, L3][mm] - The link lengths of the robot leg.\n",
    "    - leg_angle: [rad] - The static default angle of the leg relative to the robot body.    \n",
    "\n",
    "    # Output\n",
    "    - [J0_ang, J1_ang, J2_ang, J3_ang][rad] - Numpy array containing estimated joint angles.\n",
    "    \"\"\"\n",
    "\n",
    "\n",
    "    # Calculate leg origin relative to robot origin leg angle.\n",
    "    origin_leg = np.array([\n",
    "         (links[0]*np.cos(leg_angle) + origin_bot[0]), # x\n",
    "         (links[0]*np.sin(leg_angle) + origin_bot[1]), # y\n",
    "         (origin_bot[2]) ])                                # z\n",
    "\n",
    "    # Translate to local leg coordinate system\n",
    "    point_leg = point - origin_leg \n",
    " \n",
    "    # Find joint angle for J1\n",
    "    J1_ang = np.arctan2(point_leg[0], point_leg[1]) # atan(x,y), note: x and y are reversed so x-axis points forward.\n",
    "\n",
    "    # Find 2D resultant vector H for P_x and P_y with Link 1 subtracted.\n",
    "    H = np.sqrt( (point_leg[0]**2) + (point_leg[1]**2) ) - links[1]\n",
    "\n",
    "    # Find resultant vector L from H and Z. \n",
    "    L = np.sqrt( (H**2) + (point_leg[2]**2) )\n",
    "\n",
    "    # Find joint angle J3\n",
    "    J3_ang =  np.arccos( ( (links[2]**2) + (links[3]**2) - (L**2) ) / (2 * links[2] * links[3]))\n",
    "    \n",
    "    # Find joint angle J2\n",
    "    B = np.arccos( ( L**2 + (links[2]**2) - (links[3]**2) ) / ( 2 * L * links[2]))\n",
    "    A = np.arctan2( point_leg[2], H )\n",
    "    J2_ang = B + (-A)\n",
    "\n",
    "    # Apply offsets\n",
    "    J0_ang = leg_angle\n",
    "    J1_ang = J1_ang\n",
    "    J2_ang = np.pi/2 - J2_ang \n",
    "    J3_ang = J3_ang - np.pi\n",
    "\n",
    "    # Store as numpy array\n",
    "    angles = np.array([J0_ang, J1_ang, J2_ang, J3_ang])\n",
    "    return angles"
   ]
  },
  {
   "cell_type": "markdown",
   "metadata": {},
   "source": [
    "## Forward Kinematics"
   ]
  },
  {
   "cell_type": "code",
   "execution_count": 4,
   "metadata": {},
   "outputs": [],
   "source": [
    "def leg_FK(origin_bot, angles, links):\n",
    "    \"\"\"\n",
    "    # Hexapod Leg Forward-Kinematics function\n",
    "    # Author: Eirik Strandman\n",
    "    # Version: V1.0\n",
    "\n",
    "    # Description:\n",
    "    A function that takes in robot origin, joint angles and leg configuration and \n",
    "    calculates the position of the joints for a two-member hexapod leg.\n",
    "\n",
    "\n",
    "    # Inputs\n",
    "    - origin_bot: (x,y,z)[mm] - The origin of the robot coordinate system.\n",
    "    - angles: [J0, J1, J2, J3][mm] - The joint angles.\n",
    "    - links: [L0, L1, L2, L3][mm] - The link lengths of the robot leg.  \n",
    "\n",
    "    # Output\n",
    "    - [[J1_pos, J2_pos, J3_pos, EF_pos](x,y,z)[mm] - Numpy array containing estimated joint positions.\n",
    "    \"\"\"\n",
    "\n",
    "\n",
    "    # Find x-values\n",
    "    x2 = links[0] + links[1]\n",
    "    x3 = x2 + links[2]*np.cos(angles[2])\n",
    "    x4 = x3 + links[3]*np.cos(angles[2] + angles[3])\n",
    "\n",
    "    # Find z-values\n",
    "    z2 = origin_bot[2] + links[2]*np.sin(angles[2])\n",
    "    z3 = z2 + links[3]*np.sin(angles[2] + angles[3])\n",
    "\n",
    "    # Find joint positions\n",
    "    J1_pos = np.array([ links[0]*np.cos(angles[0]),  links[0]*np.sin(angles[0]),  origin_bot[2] ])\n",
    "    J2_pos = np.array([ x2*np.sin(angles[0] + angles[1]), x2*np.cos(angles[0] + angles[1]), origin_bot[2] ])\n",
    "    J3_pos = np.array([ x3*np.sin(angles[0] + angles[1]), x3*np.cos(angles[0] + angles[1]), z2 ])\n",
    "    EF_pos = np.array([ x4*np.sin(angles[0] + angles[1]), x4*np.cos(angles[0] + angles[1]), z3 ])\n",
    "\n",
    "    # Return leg position as 2D array.\n",
    "    leg_pos = np.array([J1_pos, J2_pos, J3_pos, EF_pos])\n",
    "    return leg_pos"
   ]
  },
  {
   "cell_type": "code",
   "execution_count": null,
   "metadata": {},
   "outputs": [],
   "source": [
    "# Configuration\n",
    "origin_bot = np.array([ 0, 0, 0 ])\n",
    "links = np.array([  72.75,  54.0, 71.0, 73.5 ]) # Link lengths [mm])"
   ]
  }
 ],
 "metadata": {
  "kernelspec": {
   "display_name": "Python 3",
   "language": "python",
   "name": "python3"
  },
  "language_info": {
   "codemirror_mode": {
    "name": "ipython",
    "version": 3
   },
   "file_extension": ".py",
   "mimetype": "text/x-python",
   "name": "python",
   "nbconvert_exporter": "python",
   "pygments_lexer": "ipython3",
   "version": "3.11.9"
  }
 },
 "nbformat": 4,
 "nbformat_minor": 2
}
